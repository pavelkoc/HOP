{
 "cells": [
  {
   "cell_type": "markdown",
   "metadata": {},
   "source": [
    "<h3>Načitanie knižníc</h3>"
   ]
  },
  {
   "cell_type": "code",
   "execution_count": 1,
   "metadata": {},
   "outputs": [],
   "source": [
    "import numpy as np\n",
    "import random"
   ]
  },
  {
   "cell_type": "markdown",
   "metadata": {},
   "source": [
    "<h3>Definovanie premenných</h3>"
   ]
  },
  {
   "cell_type": "code",
   "execution_count": 2,
   "metadata": {},
   "outputs": [],
   "source": [
    "# Parametre portfólia\n",
    "NUM_STOCKS = 10  # Počet akcií\n",
    "POPULATION_SIZE = 100  # Veľkosť populácie\n",
    "GENERATIONS = 10  # Počet generácií\n",
    "MUTATION_RATE = 0.1  # Miera mutácie\n",
    "\n",
    "# Generovanie náhodných ročných výnosov a rizík (volatilita)\n",
    "np.random.seed(42)\n",
    "expected_returns = np.random.uniform(0.05, 0.50, NUM_STOCKS)  # Očakávané ročné výnosy\n",
    "risks = np.random.uniform(0.1, 0.5, NUM_STOCKS)  # Očakávané riziká (volatilita)"
   ]
  },
  {
   "cell_type": "markdown",
   "metadata": {},
   "source": [
    "<h3>Definovanie fitness funkcie</h3>"
   ]
  },
  {
   "cell_type": "code",
   "execution_count": 3,
   "metadata": {},
   "outputs": [],
   "source": [
    "def fitness_function(weights):\n",
    "    portfolio_return = np.dot(weights, expected_returns)\n",
    "    portfolio_risk = np.sqrt(np.dot(weights.T, np.dot(np.diag(risks**2), weights)))\n",
    "    return portfolio_return - portfolio_risk"
   ]
  },
  {
   "cell_type": "markdown",
   "metadata": {},
   "source": [
    "<h3>Normalizovanie váh</h3>"
   ]
  },
  {
   "cell_type": "code",
   "execution_count": 4,
   "metadata": {},
   "outputs": [],
   "source": [
    "def normalize_weights(weights):\n",
    "    return weights / np.sum(weights)"
   ]
  },
  {
   "cell_type": "markdown",
   "metadata": {},
   "source": [
    "<h3>Inicializácia populácie</h3>"
   ]
  },
  {
   "cell_type": "code",
   "execution_count": 5,
   "metadata": {},
   "outputs": [],
   "source": [
    "def generate_population(size):\n",
    "    return [normalize_weights(np.random.rand(NUM_STOCKS)) for _ in range(size)]"
   ]
  },
  {
   "cell_type": "markdown",
   "metadata": {},
   "source": [
    "<h3>Metódy selekcie</h3>"
   ]
  },
  {
   "cell_type": "code",
   "execution_count": 6,
   "metadata": {},
   "outputs": [],
   "source": [
    "# Turnajová selekcia\n",
    "def tournament_selection(population):\n",
    "    tournament = random.sample(population, 5)\n",
    "    return max(tournament, key=fitness_function)\n",
    "\n",
    "# Ruletový výber\n",
    "def roulette_selection(population):\n",
    "    fitness_values = np.array([fitness_function(ind) for ind in population])\n",
    "    fitness_sum = np.sum(fitness_values)\n",
    "    selection_probs = fitness_values / fitness_sum\n",
    "    return population[np.random.choice(len(population), p=selection_probs)]\n",
    "\n",
    "# Výber podľa poradia (Rank Selection)\n",
    "def rank_selection(population):\n",
    "    fitness_values = np.array([fitness_function(ind) for ind in population])\n",
    "    ranked_indices = np.argsort(-fitness_values)\n",
    "    selection_probs = 1 / (np.arange(len(population)) + 1)\n",
    "    selection_probs /= np.sum(selection_probs)\n",
    "    return population[np.random.choice(len(population), p=selection_probs)]"
   ]
  },
  {
   "cell_type": "markdown",
   "metadata": {},
   "source": [
    "<h3> Funkcie mutácie a kríženia</h3>"
   ]
  },
  {
   "cell_type": "code",
   "execution_count": 7,
   "metadata": {},
   "outputs": [],
   "source": [
    "# Kríženie\n",
    "def crossover(parent1, parent2):\n",
    "    point = random.randint(1, NUM_STOCKS - 1)\n",
    "    child1 = np.concatenate((parent1[:point], parent2[point:]))\n",
    "    child2 = np.concatenate((parent2[:point], parent1[point:]))\n",
    "    return normalize_weights(child1), normalize_weights(child2)\n",
    "\n",
    "# Mutácia\n",
    "def mutate(individual):\n",
    "    if random.random() < MUTATION_RATE:\n",
    "        idx = random.randint(0, NUM_STOCKS - 1)\n",
    "        individual[idx] = random.uniform(0.0, 1.0)\n",
    "        return normalize_weights(individual)\n",
    "    return individual"
   ]
  },
  {
   "cell_type": "markdown",
   "metadata": {},
   "source": [
    "<h3>Implementácia genetického algoritmu</h3>"
   ]
  },
  {
   "cell_type": "code",
   "execution_count": 8,
   "metadata": {},
   "outputs": [],
   "source": [
    "def genetic_algorithm(selection_method):\n",
    "    population = generate_population(POPULATION_SIZE)\n",
    "    \n",
    "    for generation in range(GENERATIONS):\n",
    "        new_population = []\n",
    "        for _ in range(POPULATION_SIZE // 2):\n",
    "            parent1 = selection_method(population)\n",
    "            parent2 = selection_method(population)\n",
    "            child1, child2 = crossover(parent1, parent2)\n",
    "            new_population.append(mutate(child1))\n",
    "            new_population.append(mutate(child2))\n",
    "        \n",
    "        population = new_population\n",
    "        \n",
    "        best_solution = max(population, key=fitness_function)\n",
    "        yield generation, best_solution, fitness_function(best_solution)"
   ]
  },
  {
   "cell_type": "markdown",
   "metadata": {},
   "source": [
    "<h3>Porovnávanie metód selekcie</h3>"
   ]
  },
  {
   "cell_type": "code",
   "execution_count": 9,
   "metadata": {},
   "outputs": [],
   "source": [
    "def compare_selections():\n",
    "    methods = {\n",
    "        'Turnajová selekcia': tournament_selection,\n",
    "        'Ruletový výber': roulette_selection,\n",
    "        'Výber podľa poradia': rank_selection\n",
    "    }\n",
    "\n",
    "    results = {}\n",
    "    \n",
    "    for method_name, method in methods.items():\n",
    "        print(f\"\\n{method_name}:\\n\" + \"=\" * 30)\n",
    "        best_portfolio = None\n",
    "        best_fitness = float('-inf')\n",
    "        for generation, solution, fitness in genetic_algorithm(method):\n",
    "            print(f\"Generácia {generation + 1}: Najlepšie váhy: {solution}, Výnos: {fitness:.4f}\")\n",
    "            if fitness > best_fitness:\n",
    "                best_fitness = fitness\n",
    "                best_portfolio = solution\n",
    "        \n",
    "        results[method_name] = (best_portfolio, best_fitness)\n",
    "\n",
    "    print(\"\\nNajlepšie výsledky:\")\n",
    "    for method, (portfolio, fitness) in results.items():\n",
    "        print(f\"{method}: Výnos: {fitness:.4f}, Váhy: {portfolio}\")"
   ]
  },
  {
   "cell_type": "markdown",
   "metadata": {},
   "source": [
    "<h3>Spustenie kódu</h3>"
   ]
  },
  {
   "cell_type": "code",
   "execution_count": 10,
   "metadata": {},
   "outputs": [
    {
     "name": "stdout",
     "output_type": "stream",
     "text": [
      "\n",
      "Turnajová selekcia:\n",
      "==============================\n",
      "Generácia 1: Najlepšie váhy: [0.04982109 0.10074521 0.11842311 0.15084054 0.03752577 0.00199896\n",
      " 0.02488473 0.16361632 0.15886635 0.19327793], Výnos: 0.2428\n",
      "Generácia 2: Najlepšie váhy: [0.05782679 0.11884556 0.0947377  0.28363317 0.01603616 0.00935068\n",
      " 0.01551684 0.20041191 0.02959902 0.17404216], Výnos: 0.2471\n",
      "Generácia 3: Najlepšie váhy: [0.05080487 0.10441412 0.08323368 0.24919153 0.01408889 0.00821522\n",
      " 0.01363263 0.17607585 0.13549682 0.1648464 ], Výnos: 0.2494\n",
      "Generácia 4: Najlepšie váhy: [0.04995261 0.10266255 0.08183742 0.24501128 0.01385254 0.00807741\n",
      " 0.01340394 0.17312213 0.14079181 0.17128832], Výnos: 0.2497\n",
      "Generácia 5: Najlepšie váhy: [0.01314795 0.11413125 0.09097969 0.27238214 0.01540005 0.00897976\n",
      " 0.01490133 0.19246207 0.10118638 0.17642939], Výnos: 0.2511\n",
      "Generácia 6: Najlepšie váhy: [0.01407736 0.10949873 0.08728688 0.26132631 0.01477497 0.00861528\n",
      " 0.01429649 0.18465014 0.12268319 0.18279064], Výnos: 0.2515\n",
      "Generácia 7: Najlepšie váhy: [0.01238895 0.10754271 0.08572764 0.25665813 0.01451104 0.00846138\n",
      " 0.01268316 0.16381273 0.1260599  0.21215437], Výnos: 0.2522\n",
      "Generácia 8: Najlepšie váhy: [0.01291912 0.11226353 0.08949084 0.24922487 0.01409077 0.00821632\n",
      " 0.01363445 0.19018746 0.09258375 0.21738888], Výnos: 0.2533\n",
      "Generácia 9: Najlepšie váhy: [0.01422718 0.11066413 0.08821587 0.25242126 0.01427149 0.002211\n",
      " 0.01438836 0.18583668 0.0977031  0.22006093], Výnos: 0.2539\n",
      "Generácia 10: Najlepšie váhy: [0.01406966 0.12213218 0.08852619 0.22715145 0.01284278 0.00227508\n",
      " 0.0148054  0.19122304 0.10053496 0.22643926], Výnos: 0.2542\n",
      "\n",
      "Ruletový výber:\n",
      "==============================\n",
      "Generácia 1: Najlepšie váhy: [0.00575437 0.19783159 0.06495398 0.12323279 0.07105635 0.02684698\n",
      " 0.00663039 0.18006659 0.17028381 0.15334316], Výnos: 0.2313\n",
      "Generácia 2: Najlepšie váhy: [0.15510025 0.13700249 0.11279548 0.13492415 0.02837593 0.08182037\n",
      " 0.00165422 0.0437288  0.12877999 0.17581832], Výnos: 0.2198\n",
      "Generácia 3: Najlepšie váhy: [0.00922245 0.15451402 0.1409111  0.13122635 0.03384965 0.01199165\n",
      " 0.07585191 0.35123823 0.08283141 0.00836323], Výnos: 0.2160\n",
      "Generácia 4: Najlepšie váhy: [0.03683112 0.15885023 0.13675793 0.06125115 0.09291316 0.02738447\n",
      " 0.0406993  0.15302853 0.15999498 0.13228913], Výnos: 0.2179\n",
      "Generácia 5: Najlepšie váhy: [0.09535993 0.09231833 0.09218276 0.0992244  0.01595372 0.01483211\n",
      " 0.02653244 0.42765153 0.09381211 0.04213269], Výnos: 0.2213\n",
      "Generácia 6: Najlepšie váhy: [0.11278162 0.10083296 0.14426487 0.16891809 0.03329098 0.03095049\n",
      " 0.03424695 0.12876782 0.13462983 0.11131638], Výnos: 0.2274\n",
      "Generácia 7: Najlepšie váhy: [0.06281079 0.16087553 0.06493653 0.07009332 0.09827275 0.02896411\n",
      " 0.04304699 0.16185581 0.16922411 0.13992007], Výnos: 0.2186\n",
      "Generácia 8: Najlepšie váhy: [0.10205459 0.09124241 0.13054337 0.15285175 0.03012457 0.06576334\n",
      " 0.00542704 0.32537386 0.05520411 0.04141495], Výnos: 0.2229\n",
      "Generácia 9: Najlepšie váhy: [0.19310512 0.09798316 0.07938875 0.18115544 0.06980763 0.01678272\n",
      " 0.02708222 0.12716672 0.11603183 0.09149639], Výnos: 0.2260\n",
      "Generácia 10: Najlepšie váhy: [0.11945115 0.1145613  0.08280653 0.0832921  0.02627775 0.13668051\n",
      " 0.00793823 0.09548797 0.13514352 0.19836093], Výnos: 0.2201\n",
      "\n",
      "Výber podľa poradia:\n",
      "==============================\n",
      "Generácia 1: Najlepšie váhy: [0.05398743 0.0817613  0.12949878 0.18054674 0.12731389 0.0147755\n",
      " 0.06823127 0.10593753 0.07756977 0.16037781], Výnos: 0.2139\n",
      "Generácia 2: Najlepšie váhy: [0.04763793 0.14142812 0.12007616 0.12500798 0.12999027 0.0535997\n",
      " 0.00302888 0.19343358 0.05029054 0.13550684], Výnos: 0.2218\n",
      "Generácia 3: Najlepšie váhy: [0.03852883 0.08099775 0.14539687 0.10951699 0.11388188 0.04695763\n",
      " 0.00265354 0.15241564 0.15948019 0.15017068], Výnos: 0.2227\n",
      "Generácia 4: Najlepšie váhy: [0.03738682 0.07859693 0.14108722 0.10627085 0.11050636 0.04556577\n",
      " 0.00257489 0.14789795 0.15475311 0.1753601 ], Výnos: 0.2249\n",
      "Generácia 5: Najlepšie váhy: [0.09325598 0.07403524 0.13289865 0.10010299 0.10409267 0.04292118\n",
      " 0.00242544 0.1393141  0.14577138 0.16518236], Výnos: 0.2241\n",
      "Generácia 6: Najlepšie váhy: [0.0380017  0.0995149  0.10661043 0.10812239 0.11243169 0.04635966\n",
      " 0.00261975 0.15047476 0.15744935 0.17841537], Výnos: 0.2283\n",
      "Generácia 7: Najlepšie váhy: [0.0444179  0.09337812 0.06531176 0.16569426 0.04842577 0.06908577\n",
      " 0.06948962 0.23577553 0.09537536 0.1130459 ], Výnos: 0.2230\n",
      "Generácia 8: Najlepšie váhy: [0.0468304  0.13903074 0.06971041 0.29028162 0.05168717 0.0737386\n",
      " 0.07416964 0.05479821 0.10179875 0.09795445], Výnos: 0.2072\n",
      "Generácia 9: Najlepšie váhy: [0.05194711 0.15422128 0.06862142 0.28574695 0.05087973 0.06167982\n",
      " 0.03844171 0.09308375 0.1001513  0.09522693], Výnos: 0.2191\n",
      "Generácia 10: Najlepšie váhy: [0.0677978  0.00114822 0.08324405 0.34663716 0.06172177 0.06975401\n",
      " 0.04347392 0.10526886 0.11326159 0.1076926 ], Výnos: 0.2075\n",
      "\n",
      "Najlepšie výsledky:\n",
      "Turnajová selekcia: Výnos: 0.2542, Váhy: [0.01406966 0.12213218 0.08852619 0.22715145 0.01284278 0.00227508\n",
      " 0.0148054  0.19122304 0.10053496 0.22643926]\n",
      "Ruletový výber: Výnos: 0.2313, Váhy: [0.00575437 0.19783159 0.06495398 0.12323279 0.07105635 0.02684698\n",
      " 0.00663039 0.18006659 0.17028381 0.15334316]\n",
      "Výber podľa poradia: Výnos: 0.2283, Váhy: [0.0380017  0.0995149  0.10661043 0.10812239 0.11243169 0.04635966\n",
      " 0.00261975 0.15047476 0.15744935 0.17841537]\n"
     ]
    }
   ],
   "source": [
    "compare_selections()"
   ]
  }
 ],
 "metadata": {
  "kernelspec": {
   "display_name": "Python 3",
   "language": "python",
   "name": "python3"
  },
  "language_info": {
   "codemirror_mode": {
    "name": "ipython",
    "version": 3
   },
   "file_extension": ".py",
   "mimetype": "text/x-python",
   "name": "python",
   "nbconvert_exporter": "python",
   "pygments_lexer": "ipython3",
   "version": "3.10.11"
  }
 },
 "nbformat": 4,
 "nbformat_minor": 2
}
